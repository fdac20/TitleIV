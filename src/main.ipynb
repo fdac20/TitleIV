{
 "cells": [
  {
   "cell_type": "code",
   "execution_count": 16,
   "metadata": {},
   "outputs": [],
   "source": [
    "# (k)Average Loan Vs Year 2001-2019 - look at change over year\n",
    "# look at everything together initially, then per loan loan type, \n",
    "# per school type, per state\n",
    "import xlrd\n",
    "\n",
    "\n",
    "\n",
    "workbook = xlrd.open_workbook('../data/01-02/DL_AwardYr_Summary_AY2001_2002_All.xls')\n",
    "worksheet = workbook.sheet_by_index(0)\n",
    "\n",
    "data = []\n",
    "start_row = 6\n",
    "\n",
    "for i in range(start_row, worksheet.nrows):\n",
    "    school_name = worksheet.cell(i, 1).value\n",
    "    school_state = worksheet.cell(i, 2).value\n",
    "    school_type = worksheet.cell(i, 4).value\n",
    "    school_sub = [worksheet.cell(i, 5).value, worksheet.cell(i, 6).value, worksheet.cell(i, 7).value,\\\n",
    "                  worksheet.cell(i, 8).value, worksheet.cell(i, 9).value]\n",
    "    school_unsub = [worksheet.cell(i, 10).value, worksheet.cell(i, 11).value,\\\n",
    "                    worksheet.cell(i, 12).value, worksheet.cell(i, 13).value,\\\n",
    "                    worksheet.cell(i, 14).value]\n",
    "    school_plus = [worksheet.cell(i, 15).value, worksheet.cell(i, 16).value,\\\n",
    "                   worksheet.cell(i, 17).value, worksheet.cell(i, 18).value,\\\n",
    "                   worksheet.cell(i, 19).value]\n",
    "\n",
    "    if school_name not in list_of_schools:\n",
    "        list_of_schools.append(school_name)\n",
    "    \n",
    "    row = {}\n",
    "    row['state'] = school_state\n",
    "    row['type'] = school_type\n",
    "    row['sub'] = school_sub\n",
    "    row['unsub'] = school_unsub\n",
    "    row['plus'] = school_plus\n",
    "    data.append(row)"
   ]
  },
  {
   "cell_type": "code",
   "execution_count": 26,
   "metadata": {},
   "outputs": [
    {
     "name": "stdout",
     "output_type": "stream",
     "text": [
      "average loan amount per person given in the 2001-2002 school year: $ 2071.294504179813\n"
     ]
    }
   ],
   "source": [
    "total_dollar_disbursed = 0\n",
    "sub_dollar_disbursed = 0\n",
    "unsub_dollar_disbursed = 0\n",
    "plus_dollar_disbursed = 0\n",
    "\n",
    "total_num_disbursed = 0\n",
    "sub_num_disbursed = 0\n",
    "unsub_num_disbursed = 0\n",
    "plus_num_disbursed = 0\n",
    "\n",
    "\n",
    "for row in data:\n",
    "    total_dollar_disbursed += row['sub'][4]\n",
    "    total_dollar_disbursed += row['unsub'][4]\n",
    "    total_dollar_disbursed += row['plus'][4]\n",
    "    sub_dollar_disbursed += row['sub'][4]\n",
    "    unsub_dollar_disbursed += row['unsub'][4]\n",
    "    plus_dollar_disbursed += row['plus'][4]\n",
    "\n",
    "    total_num_disbursed += row['sub'][3]\n",
    "    total_num_disbursed += row['unsub'][3]\n",
    "    total_num_disbursed += row['plus'][3]\n",
    "    sub_num_disbursed += row['sub'][3]\n",
    "    unsub_num_disbursed += row['unsub'][3]\n",
    "    plus_num_disbursed += row['plus'][3]\n",
    "\n",
    "\n",
    "# print(total_dollar_disbursed, total_num_disbursed)\n",
    "print(\"average loan amount per person given in the 2001-2002 school year: \", total_dollar_disbursed/total_num_disbursed)\n"
   ]
  },
  {
   "cell_type": "code",
   "execution_count": null,
   "metadata": {},
   "outputs": [],
   "source": []
  }
 ],
 "metadata": {
  "kernelspec": {
   "display_name": "Python 3",
   "language": "python",
   "name": "python3"
  },
  "language_info": {
   "codemirror_mode": {
    "name": "ipython",
    "version": 3
   },
   "file_extension": ".py",
   "mimetype": "text/x-python",
   "name": "python",
   "nbconvert_exporter": "python",
   "pygments_lexer": "ipython3",
   "version": "3.8.2"
  }
 },
 "nbformat": 4,
 "nbformat_minor": 4
}
